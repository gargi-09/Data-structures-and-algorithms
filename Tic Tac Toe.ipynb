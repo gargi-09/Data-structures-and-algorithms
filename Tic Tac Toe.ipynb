{
 "cells": [
  {
   "cell_type": "markdown",
   "id": "43631fc8",
   "metadata": {},
   "source": [
    "**MILESTONE PROJECT NO.1**\n",
    "\n",
    "# *TIC TAC TOE GAME*"
   ]
  },
  {
   "cell_type": "code",
   "execution_count": null,
   "id": "035dbbf9",
   "metadata": {},
   "outputs": [],
   "source": [
    "def display(row1,row2,row3):\n",
    "    print(\"Tic Tac Toe Board is:\")\n",
    "    print(\" \"+\" | \"+\" \"+\" | \"+\" \")\n",
    "    print(row1[0]+\" | \"+row1[1]+\" | \"+row1[2]+\" \")\n",
    "    print(\" \"+\" | \"+\" \"+\" | \"+\" \")\n",
    "    print(\"--------\")\n",
    "    print(\" \"+\" | \"+\" \"+\" | \"+\" \")\n",
    "    print(row2[0]+\" | \"+row2[1]+\" | \"+row2[2]+\" \")\n",
    "    print(\" \"+\" | \"+\" \"+\" | \"+\" \")\n",
    "    print(\"--------\")\n",
    "    print(\" \"+\" | \"+\" \"+\" | \"+\" \")\n",
    "    print(row3[0]+\" | \"+row3[1]+\" | \"+row3[2]+\" \")\n",
    "    print(\" \"+\" | \"+\" \"+\" | \"+\" \")\n",
    "    \n",
    "    print(\"\\n\\nNow, the game shall begin!\")"
   ]
  },
  {
   "cell_type": "code",
   "execution_count": null,
   "id": "b35fc7da",
   "metadata": {},
   "outputs": [],
   "source": [
    "def check(num):\n",
    "    return num<0 or num>=3"
   ]
  },
  {
   "cell_type": "code",
   "execution_count": null,
   "id": "e606e4b4",
   "metadata": {},
   "outputs": [],
   "source": [
    "def user_input():\n",
    "    R=-1 \n",
    "    C=-1\n",
    "    player1=\"X\"\n",
    "    player2=\"O\"\n",
    "    print(f\"player 1:{player1} and player 2:{player2}\")\n",
    "    play=int(input(\"Pick one Player 1 or Player 2: 1 or 2::\"))\n",
    "    while R==-1 and C==-1:\n",
    "        print(\"**Please note that the row and column should be smaller than 3**\")\n",
    "        R,C=input(\"Enter the row and column entries of your move:\").split()\n",
    "        R=int(R)\n",
    "        C=int(C)\n",
    "        if check(R) or check(C):\n",
    "            R=-1\n",
    "            C=-1\n",
    "    print(f\"Chosen cell is:{R}x{C}\")\n",
    "    return R,C,play"
   ]
  },
  {
   "cell_type": "code",
   "execution_count": null,
   "id": "744299c3",
   "metadata": {},
   "outputs": [],
   "source": [
    "def win_win(list1):\n",
    "    if list1[0][0]==list1[1][1]==list1[2][2] or list1[0][0]==list1[0][1]==list1[0][2] or list1[0][0]==list1[1][0]==list1[2][0]:\n",
    "        return True,list1[0][0]\n",
    "    elif list1[0][2]==list1[1][2]==list1[2][2] or list1[2][2]==list1[2][1]==list1[2][0]:\n",
    "        return True,list1[2][2]\n",
    "    else:\n",
    "        return False"
   ]
  },
  {
   "cell_type": "code",
   "execution_count": null,
   "id": "2f09a42c",
   "metadata": {},
   "outputs": [],
   "source": [
    "def tic_tac_toe():\n",
    "    row1=[\" \",\" \",\" \"]\n",
    "    row2=[\" \",\" \",\" \"]\n",
    "    row3=[\" \",\" \",\" \"]\n",
    "    lst=[row1,row2,row3]\n",
    "    display(row1,row2,row3)\n",
    "    while \" \" in row1 or \" \" in row2 or \" \" in row3:\n",
    "        r,c,p=user_input()\n",
    "        if lst[r][c]!=\" \":\n",
    "            print(\"\\n***Already filled cell. Enter a new cell***\")\n",
    "            r,c,p=user_input()\n",
    "        if p==1:\n",
    "            lst[r][c]=\"X\"\n",
    "        else:\n",
    "            lst[r][c]=\"O\"\n",
    "        if win_win(lst):\n",
    "            w,n=win_win(lst)\n",
    "            if n==\"X\":\n",
    "                print(\"\\n\\nPlayer 1 wins!\")\n",
    "                display(row1,row2,row3)\n",
    "                st=input(\"Do you want to play again: yes or no::\")\n",
    "                if st==\"yes\":\n",
    "                    tic_tac_toe()\n",
    "                elif st==\"no\":\n",
    "                    break\n",
    "            elif n==\"O\":\n",
    "                print(\"\\n\\nPlayer 2 wins\")\n",
    "                display(row1,row2,row3)\n",
    "                st=input(\"Do you want to play again: yes or no::\")\n",
    "                if st==\"yes\":\n",
    "                    tic_tac_toe()\n",
    "                elif st==\"no\":\n",
    "                    break\n",
    "            else:\n",
    "                pass\n",
    "        display(row1,row2,row3)\n",
    "    else:\n",
    "        print(\"\\n\\nNo one could make it!\")"
   ]
  },
  {
   "cell_type": "code",
   "execution_count": null,
   "id": "afaeec6d",
   "metadata": {},
   "outputs": [],
   "source": [
    "tic_tac_toe()"
   ]
  },
  {
   "cell_type": "markdown",
   "id": "c58e6296",
   "metadata": {},
   "source": [
    "# Completed My first milestone project!"
   ]
  }
 ],
 "metadata": {
  "kernelspec": {
   "display_name": "Python 3 (ipykernel)",
   "language": "python",
   "name": "python3"
  },
  "language_info": {
   "codemirror_mode": {
    "name": "ipython",
    "version": 3
   },
   "file_extension": ".py",
   "mimetype": "text/x-python",
   "name": "python",
   "nbconvert_exporter": "python",
   "pygments_lexer": "ipython3",
   "version": "3.9.12"
  }
 },
 "nbformat": 4,
 "nbformat_minor": 5
}
